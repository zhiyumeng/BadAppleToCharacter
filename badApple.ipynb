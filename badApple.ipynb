{
 "cells": [
  {
   "cell_type": "code",
   "execution_count": 78,
   "metadata": {},
   "outputs": [],
   "source": [
    "import cv2\n",
    "import numpy as np"
   ]
  },
  {
   "cell_type": "code",
   "execution_count": 79,
   "metadata": {},
   "outputs": [],
   "source": [
    "video_path = r\"D:\\BaiduNetdiskDownload\\Bad Apple!!_HD.mp4\""
   ]
  },
  {
   "cell_type": "code",
   "execution_count": 80,
   "metadata": {},
   "outputs": [],
   "source": [
    "letter1 = io.imread(r\"a.png\")\n",
    "letter2 = io.imread(r\"w.png\")\n",
    "letter_shape = letter1.shape\n",
    "def convert(frame):\n",
    "    for row in range(0,frame.shape[0],letter_shape[0]):\n",
    "        for col in range(0,frame.shape[1],letter_shape[1]):\n",
    "            sub_array = frame[row:row+letter_shape[0],col:col+letter_shape[1]]\n",
    "            if np.sum(sub_array==0) > letter_shape[0] * letter_shape[1] /2 :\n",
    "                frame[row:row+letter_shape[0],col:col+letter_shape[1]] = letter1\n",
    "            else:\n",
    "                frame[row:row+letter_shape[0],col:col+letter_shape[1]] = 255"
   ]
  },
  {
   "cell_type": "code",
   "execution_count": null,
   "metadata": {},
   "outputs": [],
   "source": [
    "#用于读取视频，并截取图片\n",
    "cap = cv2.VideoCapture(video_path)\n",
    "status,frame = cap.read()\n",
    "#用于将图片写入视频\n",
    "videoWriter = cv2.VideoWriter('test2.avi', cv2.VideoWriter_fourcc(*'MJPG'), 30, (frame.shape[1],frame.shape[0]))\n",
    "index = 0;\n",
    "while status:\n",
    "    index = index + 1\n",
    "    print(\"正在处理第%d帧\\r\"%(index),end=\"\")\n",
    "    convert(frame)\n",
    "    videoWriter.write(frame)\n",
    "    status,frame = cap.read()\n",
    "videoWriter.release()"
   ]
  },
  {
   "cell_type": "code",
   "execution_count": null,
   "metadata": {},
   "outputs": [],
   "source": []
  }
 ],
 "metadata": {
  "kernelspec": {
   "display_name": "Python 3",
   "language": "python",
   "name": "python3"
  },
  "language_info": {
   "codemirror_mode": {
    "name": "ipython",
    "version": 3
   },
   "file_extension": ".py",
   "mimetype": "text/x-python",
   "name": "python",
   "nbconvert_exporter": "python",
   "pygments_lexer": "ipython3",
   "version": "3.6.5"
  }
 },
 "nbformat": 4,
 "nbformat_minor": 2
}
